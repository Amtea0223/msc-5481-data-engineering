{
 "cells": [
  {
   "cell_type": "markdown",
   "id": "badea09a",
   "metadata": {},
   "source": [
    "Assignment 1\\\n",
    "Name: Tong Wai Ho\\\n",
    "Sid: 54812369"
   ]
  },
  {
   "cell_type": "markdown",
   "id": "f7ec516e",
   "metadata": {},
   "source": [
    "Question 1"
   ]
  },
  {
   "cell_type": "code",
   "execution_count": 2,
   "id": "08f2b14a",
   "metadata": {},
   "outputs": [],
   "source": [
    "import requests\n",
    "from bs4 import BeautifulSoup\n",
    "from selenium import webdriver\n",
    "import csv\n",
    "from datetime import datetime\n",
    "import os\n",
    "import pandas as pd"
   ]
  },
  {
   "cell_type": "code",
   "execution_count": 3,
   "id": "5800dfaf",
   "metadata": {},
   "outputs": [],
   "source": [
    "# URL of the Goodreads page for \"The Godfather\"\n",
    "url = \"https://www.goodreads.com/book/show/22034/reviews?reviewFilters=eyJhZnRlciI6Ik5UZ3dOU3d4TmpBd016RTFNVFE1TWpnMiJ9\""
   ]
  },
  {
   "cell_type": "code",
   "execution_count": 4,
   "id": "b72a9c2f",
   "metadata": {},
   "outputs": [],
   "source": [
    "# Fetch the page\n",
    "response = requests.get(url)\n",
    "response.encoding = 'utf-8'\n",
    "soup = BeautifulSoup(response.text)"
   ]
  },
  {
   "cell_type": "code",
   "execution_count": 5,
   "id": "fd21c544",
   "metadata": {},
   "outputs": [
    {
     "name": "stdout",
     "output_type": "stream",
     "text": [
      "Total number of ReviewCard: 30\n"
     ]
    }
   ],
   "source": [
    "reviewCards = soup.find_all('article', class_='ReviewCard')\n",
    "print(f\"Total number of ReviewCard: {len(reviewCards)}\")"
   ]
  },
  {
   "cell_type": "code",
   "execution_count": 6,
   "id": "f3dea8c8",
   "metadata": {},
   "outputs": [],
   "source": [
    "reviews = []\n",
    "for card in reviewCards:\n",
    "    # Extract reviewer name\n",
    "    name_tag = card.find(class_='ReviewerProfile__name')\n",
    "    name = name_tag.get_text(strip=True) if name_tag else None\n",
    "\n",
    "    # Extract review text\n",
    "    text_tag = card.find(class_='ReviewText__content')\n",
    "    text = text_tag.get_text(strip=True) if text_tag else None\n",
    "\n",
    "    # Extract rating\n",
    "    rating_tag = card.find(class_='RatingStars RatingStars__small')\n",
    "    rating = rating_tag.get('aria-label') if rating_tag else None\n",
    "\n",
    "    # Extract date\n",
    "    span_tag = card.find('span', class_='Text Text__body3')\n",
    "    date_tag = span_tag.find('a')\n",
    "    date = date_tag.get_text(strip=True) if date_tag else None\n",
    "\n",
    "    reviews.append({\n",
    "        \"Name\": name,\n",
    "        \"Date\": date,\n",
    "        \"Rating\": rating,\n",
    "        \"Text\": text\n",
    "    })"
   ]
  },
  {
   "cell_type": "code",
   "execution_count": 7,
   "id": "f15e7fb3",
   "metadata": {},
   "outputs": [],
   "source": [
    "# Convert to DataFrame\n",
    "df = pd.DataFrame(reviews)"
   ]
  },
  {
   "cell_type": "code",
   "execution_count": 8,
   "id": "aff8c72b",
   "metadata": {},
   "outputs": [
    {
     "data": {
      "text/html": [
       "<div>\n",
       "<style scoped>\n",
       "    .dataframe tbody tr th:only-of-type {\n",
       "        vertical-align: middle;\n",
       "    }\n",
       "\n",
       "    .dataframe tbody tr th {\n",
       "        vertical-align: top;\n",
       "    }\n",
       "\n",
       "    .dataframe thead th {\n",
       "        text-align: right;\n",
       "    }\n",
       "</style>\n",
       "<table border=\"1\" class=\"dataframe\">\n",
       "  <thead>\n",
       "    <tr style=\"text-align: right;\">\n",
       "      <th></th>\n",
       "      <th>Name</th>\n",
       "      <th>Date</th>\n",
       "      <th>Rating</th>\n",
       "      <th>Text</th>\n",
       "    </tr>\n",
       "  </thead>\n",
       "  <tbody>\n",
       "    <tr>\n",
       "      <th>0</th>\n",
       "      <td>Diane Wallace</td>\n",
       "      <td>September 5, 2017</td>\n",
       "      <td>Rating 5 out of 5</td>\n",
       "      <td>The Best! a treasure of a story,plot and movie...</td>\n",
       "    </tr>\n",
       "    <tr>\n",
       "      <th>1</th>\n",
       "      <td>Brina</td>\n",
       "      <td>July 4, 2017</td>\n",
       "      <td>Rating 5 out of 5</td>\n",
       "      <td>Mario Puzo wrote The Godfather, a book that wa...</td>\n",
       "    </tr>\n",
       "    <tr>\n",
       "      <th>2</th>\n",
       "      <td>Nayra.Hassan</td>\n",
       "      <td>September 18, 2025</td>\n",
       "      <td>Rating 4 out of 5</td>\n",
       "      <td>لقد اقتبست شخصية العراب من والدتي التى احببتها...</td>\n",
       "    </tr>\n",
       "    <tr>\n",
       "      <th>3</th>\n",
       "      <td>Luca Ambrosino</td>\n",
       "      <td>June 8, 2024</td>\n",
       "      <td>Rating 5 out of 5</td>\n",
       "      <td>English (The Godfather) / ItalianoNew York, 19...</td>\n",
       "    </tr>\n",
       "    <tr>\n",
       "      <th>4</th>\n",
       "      <td>Matt</td>\n",
       "      <td>July 27, 2020</td>\n",
       "      <td>Rating 5 out of 5</td>\n",
       "      <td>“‘[T]ell me the truth, Tom, how many men do yo...</td>\n",
       "    </tr>\n",
       "    <tr>\n",
       "      <th>5</th>\n",
       "      <td>Kaion</td>\n",
       "      <td>April 13, 2012</td>\n",
       "      <td>Rating 1 out of 5</td>\n",
       "      <td>Indeed, dear reader, I did not hateThe Godfath...</td>\n",
       "    </tr>\n",
       "    <tr>\n",
       "      <th>6</th>\n",
       "      <td>El Librero de Valentina</td>\n",
       "      <td>July 12, 2022</td>\n",
       "      <td>Rating 5 out of 5</td>\n",
       "      <td>Qué manera de Puzo de construir a sus personaj...</td>\n",
       "    </tr>\n",
       "    <tr>\n",
       "      <th>7</th>\n",
       "      <td>Mizuki</td>\n",
       "      <td>April 17, 2024</td>\n",
       "      <td>Rating 5 out of 5</td>\n",
       "      <td>“Tell my father I wish to be his son.\" -Michae...</td>\n",
       "    </tr>\n",
       "    <tr>\n",
       "      <th>8</th>\n",
       "      <td>Baba</td>\n",
       "      <td>January 5, 2021</td>\n",
       "      <td>Rating 3 out of 5</td>\n",
       "      <td>The godfather of mafia fiction... the seminal ...</td>\n",
       "    </tr>\n",
       "    <tr>\n",
       "      <th>9</th>\n",
       "      <td>Maziyar Yf</td>\n",
       "      <td>October 29, 2021</td>\n",
       "      <td>Rating 5 out of 5</td>\n",
       "      <td>پدر خوانده یک رمان بسیار منسجم با شخصیت پردازی...</td>\n",
       "    </tr>\n",
       "    <tr>\n",
       "      <th>10</th>\n",
       "      <td>Kerstin</td>\n",
       "      <td>March 18, 2008</td>\n",
       "      <td>Rating 4 out of 5</td>\n",
       "      <td>I'm one of the people who watched the whole mo...</td>\n",
       "    </tr>\n",
       "    <tr>\n",
       "      <th>11</th>\n",
       "      <td>Fabian</td>\n",
       "      <td>September 24, 2020</td>\n",
       "      <td>Rating 5 out of 5</td>\n",
       "      <td>Mario Puzo creates his awesome world &amp; then pl...</td>\n",
       "    </tr>\n",
       "    <tr>\n",
       "      <th>12</th>\n",
       "      <td>Paul Bryant</td>\n",
       "      <td>March 10, 2019</td>\n",
       "      <td>Rating 1 out of 5</td>\n",
       "      <td>Here’s a record breaking novel, but for the wr...</td>\n",
       "    </tr>\n",
       "    <tr>\n",
       "      <th>13</th>\n",
       "      <td>Mohamed El-shandidy</td>\n",
       "      <td>April 23, 2023</td>\n",
       "      <td>Rating 5 out of 5</td>\n",
       "      <td>‏العراب و الريفيو رقم ١٠٠ 🎉🍻.في البداية أحب أن...</td>\n",
       "    </tr>\n",
       "    <tr>\n",
       "      <th>14</th>\n",
       "      <td>Manny</td>\n",
       "      <td>September 23, 2014</td>\n",
       "      <td>Rating 4 out of 5</td>\n",
       "      <td>\"Come in.\"\"Ah, Don Corleone, I'm sorry to trou...</td>\n",
       "    </tr>\n",
       "    <tr>\n",
       "      <th>15</th>\n",
       "      <td>Erin</td>\n",
       "      <td>June 19, 2025</td>\n",
       "      <td>Rating 5 out of 5</td>\n",
       "      <td>\"Every man has one destiny.\"\"Michael Corleone ...</td>\n",
       "    </tr>\n",
       "    <tr>\n",
       "      <th>16</th>\n",
       "      <td>M Hossain</td>\n",
       "      <td>July 30, 2024</td>\n",
       "      <td>Rating 4 out of 5</td>\n",
       "      <td>I watched the movie first. I keep listening to...</td>\n",
       "    </tr>\n",
       "    <tr>\n",
       "      <th>17</th>\n",
       "      <td>Matthew</td>\n",
       "      <td>October 1, 2015</td>\n",
       "      <td>Rating 5 out of 5</td>\n",
       "      <td>This book is good. This book is really REALLY ...</td>\n",
       "    </tr>\n",
       "    <tr>\n",
       "      <th>18</th>\n",
       "      <td>Ahmed</td>\n",
       "      <td>January 7, 2018</td>\n",
       "      <td>Rating 5 out of 5</td>\n",
       "      <td>I'm gonna make him an offer he can't refuse.قد...</td>\n",
       "    </tr>\n",
       "    <tr>\n",
       "      <th>19</th>\n",
       "      <td>Arini</td>\n",
       "      <td>March 22, 2021</td>\n",
       "      <td>Rating 4 out of 5</td>\n",
       "      <td>So, this is where all the mafia obsessions com...</td>\n",
       "    </tr>\n",
       "    <tr>\n",
       "      <th>20</th>\n",
       "      <td>MischaS_</td>\n",
       "      <td>September 6, 2018</td>\n",
       "      <td>Rating 5 out of 5</td>\n",
       "      <td>You gotta stop them at the beginning. Like the...</td>\n",
       "    </tr>\n",
       "    <tr>\n",
       "      <th>21</th>\n",
       "      <td>Georgia Scott</td>\n",
       "      <td>April 14, 2025</td>\n",
       "      <td>Rating 5 out of 5</td>\n",
       "      <td>I loved the film too much to ever read this un...</td>\n",
       "    </tr>\n",
       "    <tr>\n",
       "      <th>22</th>\n",
       "      <td>Saranya De ♡semi-ia♡</td>\n",
       "      <td>October 4, 2025</td>\n",
       "      <td>Rating 5 out of 5</td>\n",
       "      <td>All time favvv!Reading The Godfather is like g...</td>\n",
       "    </tr>\n",
       "    <tr>\n",
       "      <th>23</th>\n",
       "      <td>Madeline</td>\n",
       "      <td>September 4, 2009</td>\n",
       "      <td>Rating 4 out of 5</td>\n",
       "      <td>New Brilliant Future Career Idea: mafia wife.T...</td>\n",
       "    </tr>\n",
       "    <tr>\n",
       "      <th>24</th>\n",
       "      <td>Mike's Book Reviews</td>\n",
       "      <td>January 17, 2024</td>\n",
       "      <td>None</td>\n",
       "      <td>Full video review here:https://youtu.be/GIpzfq...</td>\n",
       "    </tr>\n",
       "    <tr>\n",
       "      <th>25</th>\n",
       "      <td>Mary ~Ravager of Tomes~</td>\n",
       "      <td>November 20, 2018</td>\n",
       "      <td>Rating 5 out of 5</td>\n",
       "      <td>Actual Rating: 4.5 StarsI think this is just w...</td>\n",
       "    </tr>\n",
       "    <tr>\n",
       "      <th>26</th>\n",
       "      <td>Saadia  B.</td>\n",
       "      <td>August 12, 2021</td>\n",
       "      <td>Rating 3 out of 5</td>\n",
       "      <td>The Godfather had been on my list for a long t...</td>\n",
       "    </tr>\n",
       "    <tr>\n",
       "      <th>27</th>\n",
       "      <td>فؤاد</td>\n",
       "      <td>July 15, 2016</td>\n",
       "      <td>Rating 3 out of 5</td>\n",
       "      <td>خنده دار است كه تا بيست سال پيش شبه روشنفكران ...</td>\n",
       "    </tr>\n",
       "    <tr>\n",
       "      <th>28</th>\n",
       "      <td>Roman Clodia</td>\n",
       "      <td>July 28, 2023</td>\n",
       "      <td>Rating 4 out of 5</td>\n",
       "      <td>\"Italians have a little joke, that the world i...</td>\n",
       "    </tr>\n",
       "    <tr>\n",
       "      <th>29</th>\n",
       "      <td>Shariful Sadaf</td>\n",
       "      <td>September 17, 2020</td>\n",
       "      <td>Rating 5 out of 5</td>\n",
       "      <td>An amazing, fast paced read. I liked Puzo's in...</td>\n",
       "    </tr>\n",
       "  </tbody>\n",
       "</table>\n",
       "</div>"
      ],
      "text/plain": [
       "                       Name                Date             Rating  \\\n",
       "0             Diane Wallace   September 5, 2017  Rating 5 out of 5   \n",
       "1                     Brina        July 4, 2017  Rating 5 out of 5   \n",
       "2              Nayra.Hassan  September 18, 2025  Rating 4 out of 5   \n",
       "3            Luca Ambrosino        June 8, 2024  Rating 5 out of 5   \n",
       "4                      Matt       July 27, 2020  Rating 5 out of 5   \n",
       "5                     Kaion      April 13, 2012  Rating 1 out of 5   \n",
       "6   El Librero de Valentina       July 12, 2022  Rating 5 out of 5   \n",
       "7                    Mizuki      April 17, 2024  Rating 5 out of 5   \n",
       "8                      Baba     January 5, 2021  Rating 3 out of 5   \n",
       "9                Maziyar Yf    October 29, 2021  Rating 5 out of 5   \n",
       "10                  Kerstin      March 18, 2008  Rating 4 out of 5   \n",
       "11                   Fabian  September 24, 2020  Rating 5 out of 5   \n",
       "12              Paul Bryant      March 10, 2019  Rating 1 out of 5   \n",
       "13      Mohamed El-shandidy      April 23, 2023  Rating 5 out of 5   \n",
       "14                    Manny  September 23, 2014  Rating 4 out of 5   \n",
       "15                     Erin       June 19, 2025  Rating 5 out of 5   \n",
       "16                M Hossain       July 30, 2024  Rating 4 out of 5   \n",
       "17                  Matthew     October 1, 2015  Rating 5 out of 5   \n",
       "18                    Ahmed     January 7, 2018  Rating 5 out of 5   \n",
       "19                    Arini      March 22, 2021  Rating 4 out of 5   \n",
       "20                 MischaS_   September 6, 2018  Rating 5 out of 5   \n",
       "21            Georgia Scott      April 14, 2025  Rating 5 out of 5   \n",
       "22     Saranya De ♡semi-ia♡     October 4, 2025  Rating 5 out of 5   \n",
       "23                 Madeline   September 4, 2009  Rating 4 out of 5   \n",
       "24      Mike's Book Reviews    January 17, 2024               None   \n",
       "25  Mary ~Ravager of Tomes~   November 20, 2018  Rating 5 out of 5   \n",
       "26               Saadia  B.     August 12, 2021  Rating 3 out of 5   \n",
       "27                     فؤاد       July 15, 2016  Rating 3 out of 5   \n",
       "28             Roman Clodia       July 28, 2023  Rating 4 out of 5   \n",
       "29           Shariful Sadaf  September 17, 2020  Rating 5 out of 5   \n",
       "\n",
       "                                                 Text  \n",
       "0   The Best! a treasure of a story,plot and movie...  \n",
       "1   Mario Puzo wrote The Godfather, a book that wa...  \n",
       "2   لقد اقتبست شخصية العراب من والدتي التى احببتها...  \n",
       "3   English (The Godfather) / ItalianoNew York, 19...  \n",
       "4   “‘[T]ell me the truth, Tom, how many men do yo...  \n",
       "5   Indeed, dear reader, I did not hateThe Godfath...  \n",
       "6   Qué manera de Puzo de construir a sus personaj...  \n",
       "7   “Tell my father I wish to be his son.\" -Michae...  \n",
       "8   The godfather of mafia fiction... the seminal ...  \n",
       "9   پدر خوانده یک رمان بسیار منسجم با شخصیت پردازی...  \n",
       "10  I'm one of the people who watched the whole mo...  \n",
       "11  Mario Puzo creates his awesome world & then pl...  \n",
       "12  Here’s a record breaking novel, but for the wr...  \n",
       "13  ‏العراب و الريفيو رقم ١٠٠ 🎉🍻.في البداية أحب أن...  \n",
       "14  \"Come in.\"\"Ah, Don Corleone, I'm sorry to trou...  \n",
       "15  \"Every man has one destiny.\"\"Michael Corleone ...  \n",
       "16  I watched the movie first. I keep listening to...  \n",
       "17  This book is good. This book is really REALLY ...  \n",
       "18  I'm gonna make him an offer he can't refuse.قد...  \n",
       "19  So, this is where all the mafia obsessions com...  \n",
       "20  You gotta stop them at the beginning. Like the...  \n",
       "21  I loved the film too much to ever read this un...  \n",
       "22  All time favvv!Reading The Godfather is like g...  \n",
       "23  New Brilliant Future Career Idea: mafia wife.T...  \n",
       "24  Full video review here:https://youtu.be/GIpzfq...  \n",
       "25  Actual Rating: 4.5 StarsI think this is just w...  \n",
       "26  The Godfather had been on my list for a long t...  \n",
       "27  خنده دار است كه تا بيست سال پيش شبه روشنفكران ...  \n",
       "28  \"Italians have a little joke, that the world i...  \n",
       "29  An amazing, fast paced read. I liked Puzo's in...  "
      ]
     },
     "execution_count": 8,
     "metadata": {},
     "output_type": "execute_result"
    }
   ],
   "source": [
    "df"
   ]
  },
  {
   "cell_type": "code",
   "execution_count": 9,
   "id": "22c4aa2e",
   "metadata": {},
   "outputs": [],
   "source": [
    "# Create output directory if it doesn't exist\n",
    "output_dir = os.path.join(os.getcwd(), \"output\")\n",
    "os.makedirs(output_dir, exist_ok=True)\n",
    "\n",
    "# Generate timestamped filename\n",
    "timestamp = datetime.now().strftime(\"%Y%m%d_%H%M%S\")\n",
    "csv_path = os.path.join(output_dir, f\"godfather_reviews_{timestamp}.csv\")"
   ]
  },
  {
   "cell_type": "code",
   "execution_count": 10,
   "id": "e2674f30",
   "metadata": {},
   "outputs": [
    {
     "name": "stdout",
     "output_type": "stream",
     "text": [
      "Saved reviews to c:\\Projects\\GitHub\\msc-5481-data-engineering\\Assignment1\\output\\godfather_reviews_20251007_183948.csv\n"
     ]
    }
   ],
   "source": [
    "df.to_csv(csv_path, index=False, encoding='utf-8')\n",
    "print(f\"Saved reviews to {csv_path}\")"
   ]
  },
  {
   "cell_type": "markdown",
   "id": "a010702c",
   "metadata": {},
   "source": [
    "Question 2"
   ]
  },
  {
   "cell_type": "code",
   "execution_count": 11,
   "id": "07cb27e4",
   "metadata": {},
   "outputs": [],
   "source": [
    "import re"
   ]
  },
  {
   "cell_type": "code",
   "execution_count": 12,
   "id": "2b2a1b46",
   "metadata": {},
   "outputs": [
    {
     "name": "stdout",
     "output_type": "stream",
     "text": [
      "string contains only alphabetic characters: Python, DataScience \n"
     ]
    }
   ],
   "source": [
    "#2.1\n",
    "pattern = r'^[a-zA-Z]+$'\n",
    "test_cases = [\"Python\", \"DataScience\", \"Hello123\"]\n",
    "result = \"\"\n",
    "for s in test_cases:\n",
    "    if re.match(pattern,s):\n",
    "        result += s + \", \"\n",
    "result = result.rstrip(', ')\n",
    "print(f\"string contains only alphabetic characters: {result} \")"
   ]
  },
  {
   "cell_type": "code",
   "execution_count": 13,
   "id": "21b3d8e0",
   "metadata": {},
   "outputs": [
    {
     "name": "stdout",
     "output_type": "stream",
     "text": [
      "words that start with a vowel: cat, dog \n"
     ]
    }
   ],
   "source": [
    "#2.2\n",
    "pattern = r'\\b[b-df-hj-np-tv-zB-DF-HJ-NP-TV-Z][a-zA-Z]*\\b'\n",
    "test_cases = [\"cat\", \"elephant\", \"dog\", \"owl\"]\n",
    "result = \"\"\n",
    "for s in test_cases:\n",
    "    if re.match(pattern,s):\n",
    "        result += s + \", \"\n",
    "result = result.rstrip(', ')\n",
    "print(f\"words that start with a vowel: {result} \")"
   ]
  },
  {
   "cell_type": "code",
   "execution_count": 14,
   "id": "e80c9d43",
   "metadata": {},
   "outputs": [
    {
     "name": "stdout",
     "output_type": "stream",
     "text": [
      "valid domain names: openai.org, my-site.net \n"
     ]
    }
   ],
   "source": [
    "#2.3\n",
    "pattern = r'^[a-zA-Z0-9]+([-\\.][a-zA-Z0-9]+)*\\.[a-zA-Z]{2,}$'\n",
    "test_cases = ['openai.org', 'invalid@site', 'my-site.net']\n",
    "result = \"\"\n",
    "for s in test_cases:\n",
    "    if re.match(pattern,s):\n",
    "        result += s + \", \"\n",
    "result = result.rstrip(', ')\n",
    "print(f\"valid domain names: {result} \")"
   ]
  },
  {
   "cell_type": "code",
   "execution_count": 15,
   "id": "d7c6f29d",
   "metadata": {},
   "outputs": [
    {
     "name": "stdout",
     "output_type": "stream",
     "text": [
      "numbers found in the string: ['45', '2022', '10', '2023'] \n"
     ]
    }
   ],
   "source": [
    "#2.4\n",
    "pattern = r'\\d+'\n",
    "test_cases = \"He scored 45 goals in 2022 and 10 goals in 2023.\"\n",
    "result = \"\"\n",
    "result = re.findall(pattern, test_cases)\n",
    "print(f\"numbers found in the string: {result} \")"
   ]
  },
  {
   "cell_type": "code",
   "execution_count": 16,
   "id": "6e307c70",
   "metadata": {},
   "outputs": [
    {
     "name": "stdout",
     "output_type": "stream",
     "text": [
      "valid file paths: /home/user/file.txt, /tmp/image.jpg \n"
     ]
    }
   ],
   "source": [
    "#2.5\n",
    "pattern = r'^\\/([\\w.-]+\\/)*[\\w.-]+\\.(txt|csv|jpg)$'\n",
    "test_cases = ['/home/user/file.txt', 'report.doc', '/tmp/image.jpg']\n",
    "result = \"\"\n",
    "for s in test_cases:\n",
    "    if re.match(pattern,s):\n",
    "        result += s + \", \"\n",
    "result = result.rstrip(', ')\n",
    "print(f\"valid file paths: {result} \")"
   ]
  },
  {
   "cell_type": "code",
   "execution_count": 17,
   "id": "ff4a09c9",
   "metadata": {},
   "outputs": [
    {
     "name": "stdout",
     "output_type": "stream",
     "text": [
      "valid Canadian postal code: K1A 0B1 \n"
     ]
    }
   ],
   "source": [
    "#2.6\n",
    "pattern = r'^[A-Za-z]\\d[A-Za-z] \\d[A-Za-z]\\d$'\n",
    "test_cases = ['K1A 0B1', '123 456']\n",
    "result = \"\"\n",
    "for s in test_cases:\n",
    "    if re.match(pattern,s):\n",
    "        result += s + \", \"\n",
    "result = result.rstrip(', ')\n",
    "print(f\"valid Canadian postal code: {result} \")"
   ]
  },
  {
   "cell_type": "code",
   "execution_count": 18,
   "id": "d422945c",
   "metadata": {},
   "outputs": [
    {
     "name": "stdout",
     "output_type": "stream",
     "text": [
      "strings where the first and last characters are identical: level, stats \n"
     ]
    }
   ],
   "source": [
    "#2.7\n",
    "pattern = r'^(.).*(\\1)$'\n",
    "test_cases = ['level', 'stats', 'world']\n",
    "result = \"\"\n",
    "for s in test_cases:\n",
    "    if re.match(pattern,s):\n",
    "        result += s + \", \"\n",
    "result = result.rstrip(', ')\n",
    "print(f\"strings where the first and last characters are identical: {result} \")"
   ]
  },
  {
   "cell_type": "code",
   "execution_count": 19,
   "id": "0552e437",
   "metadata": {},
   "outputs": [
    {
     "name": "stdout",
     "output_type": "stream",
     "text": [
      "valid passwords: Secure123!, ValidPass#2023 \n"
     ]
    }
   ],
   "source": [
    "#2.8\n",
    "pattern = r'^(?=.*[a-z])(?=.*[A-Z])(?=.*\\d)(?=.*\\W).{10,}$'\n",
    "test_cases = ['Secure123!', 'weakpass', 'ValidPass#2023']\n",
    "result = \"\"\n",
    "for s in test_cases:\n",
    "    if re.match(pattern,s):\n",
    "        result += s + \", \"\n",
    "result = result.rstrip(', ')\n",
    "print(f\"valid passwords: {result} \")"
   ]
  },
  {
   "cell_type": "code",
   "execution_count": 20,
   "id": "d725620c",
   "metadata": {},
   "outputs": [
    {
     "name": "stdout",
     "output_type": "stream",
     "text": [
      "valid dates: 07/04/2021, 2022-12-31, 01/01/2024 \n"
     ]
    }
   ],
   "source": [
    "#2.9\n",
    "pattern = r'(?:\\b\\d{2}/\\d{2}/\\d{4}\\b)|(?:\\b\\d{4}-\\d{2}-\\d{2}\\b)'\n",
    "test_cases = ['07/04/2021', '2022-12-31', '01/01/2024', '2022/12/31', '13-2020', '07-04-21']\n",
    "result = \"\"\n",
    "for s in test_cases:\n",
    "    if re.match(pattern,s):\n",
    "        result += s + \", \"\n",
    "result = result.rstrip(', ')\n",
    "print(f\"valid dates: {result} \")"
   ]
  },
  {
   "cell_type": "code",
   "execution_count": 21,
   "id": "ec9f0e91",
   "metadata": {},
   "outputs": [
    {
     "name": "stdout",
     "output_type": "stream",
     "text": [
      "valid IPv6 addresses: 2001:0db8:85a3:0000:0000:8a2e:0370:7334 \n"
     ]
    }
   ],
   "source": [
    "#2.10\n",
    "pattern = r'^((?:[0-9a-fA-F]{1,4}:){7}[0-9a-fA-F]{1,4}|::1)$'\n",
    "test_cases = ['2001:0db8:85a3:0000:0000:8a2e:0370:7334', '1234:5678:90ab:cdef:ghij:0000:0000:0001']\n",
    "result = \"\"\n",
    "for s in test_cases:\n",
    "    if re.match(pattern,s):\n",
    "        result += s + \", \"\n",
    "result = result.rstrip(', ')\n",
    "print(f\"valid IPv6 addresses: {result} \")"
   ]
  },
  {
   "cell_type": "markdown",
   "id": "a809b970",
   "metadata": {},
   "source": [
    "Question 3"
   ]
  },
  {
   "cell_type": "code",
   "execution_count": 22,
   "id": "ad10c108",
   "metadata": {},
   "outputs": [
    {
     "name": "stdout",
     "output_type": "stream",
     "text": [
      "Saved Clean text file to output\\cleaned_text.txt\n"
     ]
    }
   ],
   "source": [
    "#3.1\n",
    "import xml.etree.ElementTree as ET\n",
    "import re\n",
    "\n",
    "# Parse the XML file\n",
    "tree = ET.parse('sample-hyp.xml')\n",
    "root = tree.getroot()\n",
    "\n",
    "# Find all <seg> elements and process\n",
    "lines = []\n",
    "for seg in root.findall('.//seg'):\n",
    "    original_text = seg.text or ''\n",
    "    cleaned_text = re.sub(r'[^\\w\\s]', '', original_text).lower()\n",
    "    # Only append non-empty lines\n",
    "    if cleaned_text.strip():\n",
    "        lines.append(cleaned_text)\n",
    "\n",
    "output_path = 'output\\\\cleaned_text.txt'\n",
    "with open(output_path, 'w', encoding='utf-8') as f:\n",
    "    f.write('\\n'.join(lines))\n",
    "\n",
    "print(f\"Saved Clean text file to {output_path}\")"
   ]
  },
  {
   "cell_type": "code",
   "execution_count": 23,
   "id": "63255664",
   "metadata": {},
   "outputs": [
    {
     "name": "stdout",
     "output_type": "stream",
     "text": [
      "BPE codes saved to: output\\bpe_codes.txt\n",
      "BPE vocabulary saved to: output\\bpe_vocab.txt\n",
      "Number of BPE codes: 8519\n",
      "Number of vocabulary tokens: 8972\n",
      "BPE applied to output\\cleaned_text.txt and saved to output\\bpe_output.txt\n"
     ]
    }
   ],
   "source": [
    "#3.2\n",
    "import subprocess\n",
    "def learn_bpe_and_vocab(input_file, num_operations, codes_file, vocab_file):\n",
    "    # Learn BPE codes\n",
    "    subprocess.run(['subword-nmt', 'learn-bpe', '-s', str(num_operations)], stdin=open(input_file, 'r', encoding='utf-8'), stdout=open(codes_file, 'w', encoding='utf-8'), check=True)\n",
    "    # Get vocabulary (tokens and counts)\n",
    "    subprocess.run(['subword-nmt', 'get-vocab'], stdin=open(input_file, 'r', encoding='utf-8'), stdout=open(vocab_file, 'w', encoding='utf-8'), check=True)\n",
    "\n",
    "def apply_bpe(codes_file, input_file, output_file, vocab_file=None, vocab_threshold=None):\n",
    "    cmd = ['subword-nmt', 'apply-bpe', '-c', codes_file]\n",
    "    \n",
    "    if vocab_file is not None:\n",
    "        cmd += ['--vocabulary', vocab_file]\n",
    "    if vocab_threshold is not None:\n",
    "        cmd += ['--vocabulary-threshold', str(vocab_threshold)]\n",
    "    \n",
    "    with open(input_file, 'r', encoding='utf-8') as fin, open(output_file, 'w', encoding='utf-8') as fout:\n",
    "        subprocess.run(cmd, stdin=fin, stdout=fout, check=True)\n",
    "\n",
    "output_path = 'output\\\\cleaned_text.txt'\n",
    "codes_file = 'output\\\\bpe_codes.txt'\n",
    "vocab_file = 'output\\\\bpe_vocab.txt'\n",
    "num_operations = 10000  # you can adjust this value as needed\n",
    "    \n",
    "    \n",
    "# Learn BPE codes and generate vocabulary\n",
    "learn_bpe_and_vocab(output_path, num_operations, codes_file, vocab_file)\n",
    "\n",
    "print(\"BPE codes saved to:\", codes_file)\n",
    "print(\"BPE vocabulary saved to:\", vocab_file)\n",
    "\n",
    "bpe_count = sum(1 for _ in open(codes_file, encoding='utf-8'))\n",
    "vocab_count = sum(1 for _ in open(vocab_file, encoding='utf-8'))\n",
    "\n",
    "print(\"Number of BPE codes:\", bpe_count)\n",
    "print(\"Number of vocabulary tokens:\", vocab_count)\n",
    "\n",
    "#Apply BPE to the cleaned text\n",
    "apply_bpe(codes_file, output_path, 'output\\\\bpe_output.txt', vocab_file=vocab_file, vocab_threshold=50)\n",
    "print(f\"BPE applied to {output_path} and saved to output\\\\bpe_output.txt\")"
   ]
  },
  {
   "cell_type": "markdown",
   "id": "4c751db4",
   "metadata": {},
   "source": [
    "Question 4"
   ]
  },
  {
   "cell_type": "code",
   "execution_count": 101,
   "id": "d3949358",
   "metadata": {},
   "outputs": [],
   "source": [
    "import numpy as np\n",
    "import pandas as pd\n",
    "import seaborn as sns\n",
    "import matplotlib.pyplot as plt"
   ]
  },
  {
   "cell_type": "code",
   "execution_count": 116,
   "id": "174dc729",
   "metadata": {},
   "outputs": [],
   "source": [
    "# Step 1: Generate Data\n",
    "np.random.seed(42)  # for reproducibility\n",
    "\n",
    "student_ids = np.arange(1, 501)\n",
    "majors = np.random.choice(['Computer Science', 'Mathematics', 'Physics'], size=500,p=[0.3, 0.325, 0.375])\n",
    "genders = np.random.choice(['Male', 'Female'], size=500, p=[0.6, 0.4])\n",
    "gpas = np.round(np.random.uniform(0.0, 4.0, size=500), 2)\n",
    "\n",
    "# Create DataFrame\n",
    "students = pd.DataFrame({\n",
    "    'StudentID': student_ids,\n",
    "    'Major': majors,\n",
    "    'Gender': genders,\n",
    "    'GPA': gpas\n",
    "})\n"
   ]
  },
  {
   "cell_type": "code",
   "execution_count": 117,
   "id": "2ee7265a",
   "metadata": {},
   "outputs": [
    {
     "data": {
      "text/html": [
       "<div>\n",
       "<style scoped>\n",
       "    .dataframe tbody tr th:only-of-type {\n",
       "        vertical-align: middle;\n",
       "    }\n",
       "\n",
       "    .dataframe tbody tr th {\n",
       "        vertical-align: top;\n",
       "    }\n",
       "\n",
       "    .dataframe thead th {\n",
       "        text-align: right;\n",
       "    }\n",
       "</style>\n",
       "<table border=\"1\" class=\"dataframe\">\n",
       "  <thead>\n",
       "    <tr style=\"text-align: right;\">\n",
       "      <th></th>\n",
       "      <th>StudentID</th>\n",
       "      <th>Major</th>\n",
       "      <th>Gender</th>\n",
       "      <th>GPA</th>\n",
       "    </tr>\n",
       "  </thead>\n",
       "  <tbody>\n",
       "    <tr>\n",
       "      <th>0</th>\n",
       "      <td>1</td>\n",
       "      <td>Mathematics</td>\n",
       "      <td>Female</td>\n",
       "      <td>0.74</td>\n",
       "    </tr>\n",
       "    <tr>\n",
       "      <th>1</th>\n",
       "      <td>2</td>\n",
       "      <td>Physics</td>\n",
       "      <td>Male</td>\n",
       "      <td>2.17</td>\n",
       "    </tr>\n",
       "    <tr>\n",
       "      <th>2</th>\n",
       "      <td>3</td>\n",
       "      <td>Physics</td>\n",
       "      <td>Male</td>\n",
       "      <td>3.49</td>\n",
       "    </tr>\n",
       "    <tr>\n",
       "      <th>3</th>\n",
       "      <td>4</td>\n",
       "      <td>Mathematics</td>\n",
       "      <td>Female</td>\n",
       "      <td>2.93</td>\n",
       "    </tr>\n",
       "    <tr>\n",
       "      <th>4</th>\n",
       "      <td>5</td>\n",
       "      <td>Computer Science</td>\n",
       "      <td>Female</td>\n",
       "      <td>3.23</td>\n",
       "    </tr>\n",
       "    <tr>\n",
       "      <th>...</th>\n",
       "      <td>...</td>\n",
       "      <td>...</td>\n",
       "      <td>...</td>\n",
       "      <td>...</td>\n",
       "    </tr>\n",
       "    <tr>\n",
       "      <th>495</th>\n",
       "      <td>496</td>\n",
       "      <td>Mathematics</td>\n",
       "      <td>Male</td>\n",
       "      <td>2.67</td>\n",
       "    </tr>\n",
       "    <tr>\n",
       "      <th>496</th>\n",
       "      <td>497</td>\n",
       "      <td>Mathematics</td>\n",
       "      <td>Female</td>\n",
       "      <td>2.48</td>\n",
       "    </tr>\n",
       "    <tr>\n",
       "      <th>497</th>\n",
       "      <td>498</td>\n",
       "      <td>Computer Science</td>\n",
       "      <td>Male</td>\n",
       "      <td>1.85</td>\n",
       "    </tr>\n",
       "    <tr>\n",
       "      <th>498</th>\n",
       "      <td>499</td>\n",
       "      <td>Physics</td>\n",
       "      <td>Female</td>\n",
       "      <td>1.52</td>\n",
       "    </tr>\n",
       "    <tr>\n",
       "      <th>499</th>\n",
       "      <td>500</td>\n",
       "      <td>Physics</td>\n",
       "      <td>Male</td>\n",
       "      <td>3.45</td>\n",
       "    </tr>\n",
       "  </tbody>\n",
       "</table>\n",
       "<p>500 rows × 4 columns</p>\n",
       "</div>"
      ],
      "text/plain": [
       "     StudentID             Major  Gender   GPA\n",
       "0            1       Mathematics  Female  0.74\n",
       "1            2           Physics    Male  2.17\n",
       "2            3           Physics    Male  3.49\n",
       "3            4       Mathematics  Female  2.93\n",
       "4            5  Computer Science  Female  3.23\n",
       "..         ...               ...     ...   ...\n",
       "495        496       Mathematics    Male  2.67\n",
       "496        497       Mathematics  Female  2.48\n",
       "497        498  Computer Science    Male  1.85\n",
       "498        499           Physics  Female  1.52\n",
       "499        500           Physics    Male  3.45\n",
       "\n",
       "[500 rows x 4 columns]"
      ]
     },
     "execution_count": 117,
     "metadata": {},
     "output_type": "execute_result"
    }
   ],
   "source": [
    "students"
   ]
  },
  {
   "cell_type": "markdown",
   "id": "bcb17a15",
   "metadata": {},
   "source": [
    "#4.1\\\n",
    "The GPA attribute can be effectively visualized using a histogram, which allows us to examine the overall distribution of GPA values clearly.\\\n",
    "\n",
    "The number of students in each major is best shown with a bar chart, as this visualization makes it easy to compare the counts of students across different majors via the y-axis.\\\n",
    "\n",
    "Gender distribution is well represented by a pie chart, making it simple to perceive the balance between male and female students.\\\n",
    "\n",
    "To show the statistical spread of GPA for each major and gender, box plots are appropriate because they display key statistics such as medians, quartiles, and outliers.\\\n",
    "\n",
    "Additionally, a bar chart can be used to visualize average GPA broken down by both major and gender, providing a comparative view of GPA distribution segmented by these categories."
   ]
  },
  {
   "cell_type": "code",
   "execution_count": 150,
   "id": "a69ba8e6",
   "metadata": {},
   "outputs": [
    {
     "data": {
      "image/png": "[encoded data removed]",
      "text/plain": [
       "<Figure size 1200x1400 with 6 Axes>"
      ]
     },
     "metadata": {},
     "output_type": "display_data"
    }
   ],
   "source": [
    "#4.2\n",
    "# Set style\n",
    "sns.set(style=\"whitegrid\", palette=\"pastel\")\n",
    "# Create figure and axis array for 3x2 subplot grid\n",
    "fig, axes = plt.subplots(3, 2, figsize=(12, 14))\n",
    "axes = axes.ravel()\n",
    "\n",
    "\n",
    "# 1. Histogram for GPA distribution\n",
    "sns.histplot(students['GPA'], bins=20, ax=axes[0], color='orange')\n",
    "axes[0].set_title(\"GPA Distribution\")\n",
    "\n",
    "# 2. Bar plot for Major counts\n",
    "sns.countplot(data=students, x='Major', hue='Major', ax=axes[1], palette='muted', legend=False)\n",
    "axes[1].set_title(\"Number of Students in Each Major\")\n",
    "\n",
    "# 3. Pie plot for Gender counts\n",
    "gender_counts = students['Gender'].value_counts()\n",
    "axes[2].pie(gender_counts, labels=gender_counts.index, autopct='%1.1f%%', colors=sns.color_palette('pastel'), startangle=140)\n",
    "axes[2].set_title(\"Gender Distribution\")\n",
    "\n",
    "# 4. Bar plot show Average GPA by Gender and Major\n",
    "avg_gpa = students.groupby(['Major', 'Gender'])['GPA'].mean().reset_index()\n",
    "sns.barplot(data=avg_gpa, x='Major', y='GPA', hue='Gender', palette='pastel', ax=axes[3])\n",
    "axes[3].set_title(\"Average GPA by Gender and Major\")\n",
    "\n",
    "# 5. Boxplot of GPA by Major\n",
    "sns.boxplot(data=students, x='Major', y='GPA', hue='Major', ax=axes[4], palette='Set2', legend=False)\n",
    "axes[4].set_title(\"GPA Distribution by Major\")\n",
    "\n",
    "# 6. Boxplot of GPA by Gender\n",
    "sns.boxplot(data=students, x='Gender', y='GPA', hue='Gender', ax=axes[5], palette='Set3', legend=False)\n",
    "axes[5].set_title(\"GPA Distribution by Gender\")\n",
    "\n",
    "plt.tight_layout()\n",
    "plt.show()"
   ]
  },
  {
   "cell_type": "code",
   "execution_count": null,
   "id": "79341ca1",
   "metadata": {},
   "outputs": [
    {
     "data": {
      "text/plain": [
       "Major\n",
       "Physics             195\n",
       "Computer Science    154\n",
       "Mathematics         151\n",
       "Name: count, dtype: int64"
      ]
     },
     "execution_count": 143,
     "metadata": {},
     "output_type": "execute_result"
    }
   ],
   "source": [
    "#4.3\n",
    "major_counts = students[\"Major\"].value_counts().sort_values(ascending=False)\n",
    "major_counts"
   ]
  },
  {
   "cell_type": "code",
   "execution_count": 140,
   "id": "4d02c9c9",
   "metadata": {},
   "outputs": [
    {
     "data": {
      "image/png": "[encoded data removed]",
      "text/plain": [
       "<Figure size 1000x1000 with 1 Axes>"
      ]
     },
     "metadata": {},
     "output_type": "display_data"
    }
   ],
   "source": [
    "plt.figure(figsize=(10,10))\n",
    "sns.barplot(x=students[\"Major\"].value_counts().index, y=students[\"Major\"].value_counts().values)\n",
    "plt.title(\"Number of Students per Major\")\n",
    "plt.xlabel(\"Major\")\n",
    "plt.ylabel(\"Count\")\n",
    "plt.xticks(rotation=15)\n",
    "plt.tight_layout()\n",
    "plt.show()"
   ]
  },
  {
   "cell_type": "code",
   "execution_count": 146,
   "id": "64955744",
   "metadata": {},
   "outputs": [
    {
     "data": {
      "image/png": "[encoded data removed]",
      "text/plain": [
       "<Figure size 800x600 with 2 Axes>"
      ]
     },
     "metadata": {},
     "output_type": "display_data"
    }
   ],
   "source": [
    "#4.4\n",
    "# Set random seed for reproducibility\n",
    "np.random.seed(42)\n",
    "\n",
    "# Initialize user (U) and item (V) embeddings as 5x8 matrices\n",
    "d = 8 # embedding dimension\n",
    "U = np.random.randn(5, d)\n",
    "V = np.random.randn(5, d)\n",
    "\n",
    "similarity_raw = np.dot(U, V.T) / np.sqrt(d)\n",
    "\n",
    "# Apply softmax to each row for similarity scores\n",
    "exp_scores = np.exp(similarity_raw)\n",
    "softmax_scores = exp_scores / exp_scores.sum(axis=1, keepdims=True)\n",
    "\n",
    "# Visualize the similarity scores with a heatmap\n",
    "plt.figure(figsize=(8,6))\n",
    "sns.heatmap(softmax_scores, annot=True, cmap='coolwarm', cbar=True)\n",
    "plt.title('Similarity Scores Heatmap between Users and Items')\n",
    "plt.xlabel('Items')\n",
    "plt.ylabel('Users')\n",
    "plt.show()"
   ]
  }
 ],
 "metadata": {
  "kernelspec": {
   "display_name": "venv",
   "language": "python",
   "name": "python3"
  },
  "language_info": {
   "codemirror_mode": {
    "name": "ipython",
    "version": 3
   },
   "file_extension": ".py",
   "mimetype": "text/x-python",
   "name": "python",
   "nbconvert_exporter": "python",
   "pygments_lexer": "ipython3",
   "version": "3.13.7"
  }
 },
 "nbformat": 4,
 "nbformat_minor": 5
}
