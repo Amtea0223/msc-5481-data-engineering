{
 "cells": [
  {
   "cell_type": "code",
   "execution_count": 5,
   "id": "08f2b14a",
   "metadata": {},
   "outputs": [],
   "source": [
    "import requests\n",
    "from bs4 import BeautifulSoup"
   ]
  },
  {
   "cell_type": "code",
   "execution_count": 6,
   "id": "5800dfaf",
   "metadata": {},
   "outputs": [],
   "source": [
    "# URL of the 1st article\n",
    "url = \"https://www.imdb.com/title/tt13443470/?ref_=hm_tpten_i_1\""
   ]
  },
  {
   "cell_type": "code",
   "execution_count": 7,
   "id": "b72a9c2f",
   "metadata": {},
   "outputs": [],
   "source": [
    "response = requests.get(url)"
   ]
  },
  {
   "cell_type": "code",
   "execution_count": null,
   "id": "0428ad1f",
   "metadata": {},
   "outputs": [],
   "source": [
    "response.encoding = 'utf-8'"
   ]
  },
  {
   "cell_type": "code",
   "execution_count": 10,
   "id": "18f7ebb3",
   "metadata": {},
   "outputs": [],
   "source": [
    "soup = BeautifulSoup(response.text)"
   ]
  },
  {
   "cell_type": "code",
   "execution_count": null,
   "id": "3ce2e5af",
   "metadata": {},
   "outputs": [],
   "source": []
  }
 ],
 "metadata": {
  "kernelspec": {
   "display_name": "venv",
   "language": "python",
   "name": "python3"
  },
  "language_info": {
   "codemirror_mode": {
    "name": "ipython",
    "version": 3
   },
   "file_extension": ".py",
   "mimetype": "text/x-python",
   "name": "python",
   "nbconvert_exporter": "python",
   "pygments_lexer": "ipython3",
   "version": "3.13.5"
  }
 },
 "nbformat": 4,
 "nbformat_minor": 5
}
